{
 "cells": [
  {
   "cell_type": "markdown",
   "metadata": {},
   "source": [
    "# Mandala Variability Exploration"
   ]
  },
  {
   "cell_type": "code",
   "execution_count": null,
   "metadata": {
    "collapsed": true
   },
   "outputs": [],
   "source": [
    "# Import modules\n",
    "import numpy as np\n",
    "import random\n",
    "from plotly.offline import download_plotlyjs, init_notebook_mode, plot, iplot\n",
    "import plotly.graph_objs as go\n",
    "# Run notebook mode for Jupyter offline plotting\n",
    "init_notebook_mode(connected=True)\n",
    "\n",
    "# Set theta = [0, 2PI] in N bins\n",
    "N = 5000 # Number of bins\n",
    "theta = np.arange(N+1)*2*np.pi/N"
   ]
  },
  {
   "cell_type": "code",
   "execution_count": null,
   "metadata": {
    "collapsed": true
   },
   "outputs": [],
   "source": [
    "def fourier_series(theta, num_sines=0, num_cosines=0, a0=False):\n",
    "    # The max and min of amplitudes and frequencies could be made explicit in the function call\n",
    "    a_sines = np.random.randint(2+1, size=num_sines) # Max amplitude is 2\n",
    "    n_sines = np.random.randint(100+1, size=num_sines) # Max term on the fourier series is the 100th\n",
    "    a_cosines = np.random.randint(2+1, size=num_cosines) # Max amplitude is 2\n",
    "    n_cosines = np.random.randint(100+1, size=num_cosines) # Max term on the fourier series is the 100th\n",
    "    if a0 == True:\n",
    "        a0 = np.random.randint(0, 2+1, 1)[0]\n",
    "    # Construct the Fourier series\n",
    "    f = np.full_like(theta, a0)\n",
    "    for i in np.arange(num_sines): # Add the sines\n",
    "        f_sin_n = a_sines[i]*np.sin(n_sines[i]*theta)\n",
    "        f = np.add(f, f_sin_n)\n",
    "    for i in np.arange(num_cosines): # Add the cosines\n",
    "        f_cos_n = a_cosines[i]*np.cos(n_cosines[i]*theta)\n",
    "        f = np.add(f, f_cos_n)\n",
    "    return f"
   ]
  },
  {
   "cell_type": "code",
   "execution_count": null,
   "metadata": {
    "collapsed": true
   },
   "outputs": [],
   "source": [
    "# Create and append to data array the trace objects\n",
    "   \n",
    "# Make fourier series\n",
    "r = fourier_series(theta, 1, 1, True)\n",
    "t = theta*360/(2*np.pi)\n",
    "# Make trace\n",
    "trace = go.Scatter(\n",
    "    r=r,\n",
    "    t=t,\n",
    "    mode='lines',\n",
    "    name='Trace',\n",
    "    marker=dict(\n",
    "        color='none',\n",
    "        line=dict(\n",
    "            color='green'\n",
    "        )\n",
    "    )\n",
    ")\n",
    "data.append(trace)\n",
    "\n",
    "# Set layout for figure\n",
    "layout = go.Layout(\n",
    "    title='Mandala Exploration',\n",
    "    font=dict(\n",
    "        family='Arial, sans-serif;',\n",
    "        size=12,\n",
    "        color='#000'\n",
    "    ),\n",
    "    orientation=0,\n",
    "    autosize=True,\n",
    ")\n",
    "\n",
    "# Do actual plotting\n",
    " #iplot({\"data\": data, \"layout\": layout}, image=\"png\", filename=\"mandala-variability.png\") # Save the picture\n",
    "iplot({\"data\": data, \"layout\": layout})"
   ]
  }
 ],
 "metadata": {
  "kernelspec": {
   "display_name": "Python [Root]",
   "language": "python",
   "name": "Python [Root]"
  },
  "language_info": {
   "codemirror_mode": {
    "name": "ipython",
    "version": 3
   },
   "file_extension": ".py",
   "mimetype": "text/x-python",
   "name": "python",
   "nbconvert_exporter": "python",
   "pygments_lexer": "ipython3",
   "version": "3.5.2"
  }
 },
 "nbformat": 4,
 "nbformat_minor": 0
}
